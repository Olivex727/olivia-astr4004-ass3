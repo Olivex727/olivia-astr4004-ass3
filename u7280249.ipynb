{
 "cells": [
  {
   "cell_type": "markdown",
   "metadata": {},
   "source": [
    "# u7280249 Assignment 3 ASTR4004\n",
    "\n",
    "# Task 1\n",
    "\n",
    "The following is the code I used to establish the git repository. This `.ipynb` file itself is also in the repository.\n",
    "\n",
    "```\n",
    "echo \"Hello World!\" >> README.md\n",
    "git init\n",
    "git add *\n",
    "git commit -m \"Here is some code\"\n",
    "git remote add origin git@github.com:Olivex727/olivia-astr4004-ass3.git\n",
    "git branch -M main\n",
    "git push --set-upstream origin main\n",
    "```\n",
    "\n",
    "Note that the 5th command only works onmy device due to SSH permissions. The repository is available here: [https://github.com/Olivex727/olivia-astr4004-ass3](https://github.com/Olivex727/olivia-astr4004-ass3). The next step is to add content and commit it:\n",
    "\n",
    "```\n",
    "echo \"Hello Again!\" >> README.md\n",
    "git add *\n",
    "git commit -\n",
    "```"
   ]
  },
  {
   "cell_type": "code",
   "execution_count": null,
   "metadata": {},
   "outputs": [],
   "source": []
  }
 ],
 "metadata": {
  "language_info": {
   "name": "python"
  }
 },
 "nbformat": 4,
 "nbformat_minor": 2
}
